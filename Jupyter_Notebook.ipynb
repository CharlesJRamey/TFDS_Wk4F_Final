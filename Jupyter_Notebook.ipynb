{
 "cells": [
  {
   "cell_type": "markdown",
   "metadata": {},
   "source": [
    "<center>\n",
    "    <img src=\"https://s3-api.us-geo.objectstorage.softlayer.net/cf-courses-data/CognitiveClass/Logos/organization_logo/organization_logo.png\" width=\"300\" alt=\"cognitiveclass.ai logo\"  />\n",
    "</center>\n"
   ]
  },
  {
   "cell_type": "markdown",
   "metadata": {},
   "source": [
    "#### Add your code below following the instructions given in the course\n"
   ]
  },
  {
   "cell_type": "markdown",
   "metadata": {},
   "source": [
    "# My Jupyter Notebook on IBM Watson Studio"
   ]
  },
  {
   "cell_type": "markdown",
   "metadata": {},
   "source": [
    "**Charles Ramey** <br>\n",
    "Current Occupation: Municipal Engineer <br>\n",
    "Desired Occupation: Machine Learning Engineer"
   ]
  },
  {
   "cell_type": "markdown",
   "metadata": {},
   "source": [
    "*I am pursuing a career in data science because I love working with data and making data work for me. Learning data science skills will enable me to do more of what I enjoy every day, both in a professional setting and on personal passion projects.*"
   ]
  },
  {
   "cell_type": "markdown",
   "metadata": {},
   "source": [
    "### - The code in cell 5 below first defines whether it is morning, and then defines whether Charles has coffee. \n",
    "### - Next, the code uses an if statement to check whether the variable is_morning is True. If yes, the code prints a string telling Charles good morning. \n",
    "### - Next, the code uses an if statement to check whether the variable has_coffee is True. If yes, the code prints a string displaying Charles' cheery reply.\n",
    "### - An else statement is then used to check whether has_coffee is NOT True (False). If yes, the code prints a string displaying Charles' ill-tempered reply."
   ]
  },
  {
   "cell_type": "code",
   "execution_count": 13,
   "metadata": {},
   "outputs": [
    {
     "name": "stdout",
     "output_type": "stream",
     "text": [
      "\"Good morning Charles,\" says Jupyter Notebook.\n",
      "\"Dont talk to me...\" mutters Charles.\n"
     ]
    }
   ],
   "source": [
    "is_morning = True\n",
    "has_coffee = False\n",
    "\n",
    "if is_morning == True:\n",
    "    print('\"Good morning Charles,\" says Jupyter Notebook.')\n",
    "\n",
    "if has_coffee == True:\n",
    "    print('\"Good morning Jupyter,\" Charles replies.')\n",
    "\n",
    "else:\n",
    "    print('\"Dont talk to me...\" mutters Charles.')"
   ]
  },
  {
   "cell_type": "markdown",
   "metadata": {},
   "source": [
    "This cell contains the following: <br>\n",
    "- Bulleted list\n",
    "- Horizontal Rule\n",
    "- Image of a duck <br>\n",
    "***\n",
    "\n",
    "<img src=\"https://static.boredpanda.com/blog/wp-content/uploads/2019/10/B2uum6BnoSh-1-png__700.jpg\" width=\"300\" height=\"300\">"
   ]
  },
  {
   "cell_type": "code",
   "execution_count": null,
   "metadata": {},
   "outputs": [],
   "source": []
  }
 ],
 "metadata": {
  "kernelspec": {
   "display_name": "Python",
   "language": "python",
   "name": "conda-env-python-py"
  },
  "language_info": {
   "codemirror_mode": {
    "name": "ipython",
    "version": 3
   },
   "file_extension": ".py",
   "mimetype": "text/x-python",
   "name": "python",
   "nbconvert_exporter": "python",
   "pygments_lexer": "ipython3",
   "version": "3.7.12"
  }
 },
 "nbformat": 4,
 "nbformat_minor": 4
}
